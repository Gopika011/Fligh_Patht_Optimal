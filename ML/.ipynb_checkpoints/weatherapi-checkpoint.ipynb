{
 "cells": [
  {
   "cell_type": "code",
   "execution_count": null,
   "id": "initial_id",
   "metadata": {
    "collapsed": true
   },
   "outputs": [],
   "source": [
    ""
   ]
  },
  {
   "metadata": {
    "ExecuteTime": {
     "end_time": "2025-02-27T17:39:30.077104Z",
     "start_time": "2025-02-27T17:39:30.005127Z"
    }
   },
   "cell_type": "code",
   "source": [
    "from __future__ import print_function\n",
    "import time\n",
    "import weatherapi\n",
    "from weatherapi.rest import ApiException\n",
    "from pprint import pprint\n",
    "\n",
    "# Configure API key authorization: ApiKeyAuth\n",
    "configuration = weatherapi.Configuration()\n",
    "configuration.api_key['key'] = '27e3ba3ba5264b0c85e152937251802'\n",
    "# Uncomment below to setup prefix (e.g. Bearer) for API key, if needed\n",
    "# configuration.api_key_prefix['key'] = 'Bearer'\n",
    "\n",
    "# create an instance of the API class\n",
    "api_instance = weatherapi.APIsApi(weatherapi.ApiClient(configuration))\n",
    "print(\"ok\")"
   ],
   "id": "7c34a78faf7a92e5",
   "outputs": [],
   "execution_count": 1
  },
  {
   "metadata": {
    "ExecuteTime": {
     "end_time": "2025-02-27T17:42:09.849772Z",
     "start_time": "2025-02-27T17:41:36.425007Z"
    }
   },
   "cell_type": "code",
   "source": [
    "import os\n",
    "import pandas as pd\n",
    "import glob\n",
    "from datetime import datetime\n",
    "\n",
    "# Create output directory if not exists\n",
    "output_dir = \"./flightdata/processed_flights_weather/\"\n",
    "os.makedirs(output_dir, exist_ok=True)\n",
    "\n",
    "# Common columns between historical hour data and current weather data\n",
    "common_columns = [\n",
    "    'temp_c', 'humidity', 'wind_kph', 'wind_degree', \n",
    "    'pressure_mb', 'cloud', 'feelslike_c', 'dewpoint_c',\n",
    "    'vis_km', 'gust_kph', 'uv'\n",
    "]\n",
    "\n",
    "files = glob.glob(\"./flightdata/flights_weather_weatherapi/*.csv\")\n",
    "\n",
    "for file_path in files:\n",
    "\n",
    "\n",
    "        print(f\"Processing: {file_path}\")\n",
    "        df = pd.read_csv(file_path)\n",
    "    \n",
    "    # Add new weather columns if they don't exist\n",
    "        for col in common_columns:\n",
    "            if col not in df.columns:\n",
    "                df[col] = None\n",
    "        \n",
    "        for idx, row in df.iterrows():\n",
    "            try:\n",
    "                q = f\"{row['lat']},{row['lon']}\"\n",
    "                dt = row['timestamp']\n",
    "                t = time.gmtime(dt)\n",
    "                hour = t.tm_hour\n",
    "                \n",
    "                # Get historical weather data\n",
    "                api_response = api_instance.history_weather(\n",
    "                    q, \n",
    "                    dt=\"\",\n",
    "                    unixdt=dt,\n",
    "                    hour=hour\n",
    "                )\n",
    "                \n",
    "                \n",
    "                forecastday = api_response['forecast']['forecastday'][0]\n",
    "                # Extract relevant data from response\n",
    "                if forecastday:\n",
    "                    hour_data = forecastday['hour'][0]\n",
    "                    \n",
    "                    if hour_data:\n",
    "                        # Update dataframe with weather data\n",
    "                        df.at[idx, 'temp_c'] = hour_data['temp_c']\n",
    "                        df.at[idx, 'humidity'] = hour_data['humidity']\n",
    "                        df.at[idx, 'wind_kph'] = hour_data['wind_kph']\n",
    "                        df.at[idx, 'wind_degree'] = hour_data['wind_degree']\n",
    "                        df.at[idx, 'pressure_mb'] = hour_data['pressure_mb']\n",
    "                        df.at[idx, 'cloud'] = hour_data['cloud']\n",
    "                        df.at[idx, 'feelslike_c'] = hour_data['feelslike_c']\n",
    "                        df.at[idx, 'dewpoint_c'] = hour_data['dewpoint_c']\n",
    "                        df.at[idx, 'vis_km'] = hour_data['vis_km']\n",
    "                        df.at[idx, 'gust_kph'] = hour_data['gust_kph']\n",
    "                        df.at[idx, 'uv'] = hour_data['uv']\n",
    "                        \n",
    "            except Exception as e:\n",
    "                print(f\"Error processing row {idx}: {e}\")\n",
    "                continue\n",
    "        \n",
    "        # Save to new directory\n",
    "        output_path = os.path.join(output_dir, os.path.basename(file_path))\n",
    "        df.to_csv(output_path, index=False)\n",
    "        print(f\"Saved processed file to: {output_path}\")"
   ],
   "id": "8bff977b5bad91e",
   "outputs": [
    {
     "name": "stdout",
     "output_type": "stream",
     "text": [
      "Processing: ./flightdata/flights_weather_weatherapi\\AI2886_3848df70.csv\n",
      "Saved processed file to: ./flightdata/processed_flights_weather/AI2886_3848df70.csv\n",
      "Processing: ./flightdata/flights_weather_weatherapi\\AI2886_384bef29.csv\n",
      "Saved processed file to: ./flightdata/processed_flights_weather/AI2886_384bef29.csv\n",
      "Processing: ./flightdata/flights_weather_weatherapi\\AI2886_384ee4a9.csv\n",
      "Saved processed file to: ./flightdata/processed_flights_weather/AI2886_384ee4a9.csv\n",
      "Processing: ./flightdata/flights_weather_weatherapi\\AI2886_385252e1.csv\n",
      "Error processing row 62: (408)\n",
      "Reason: Request Timeout\n",
      "HTTP response headers: HTTPHeaderDict({'Date': 'Thu, 27 Feb 2025 17:42:09 GMT', 'Content-Type': 'text/html', 'Content-Length': '110', 'Connection': 'keep-alive', 'Server': 'BunnyCDN-SG1-1173', 'CDN-PullZone': '93447', 'CDN-Uid': '8fa3a04a-75d9-4707-8056-b7b33c8ac7fe', 'CDN-RequestCountryCode': 'IN', 'Cache-Control': 'public, max-age=5', 'CDN-ProxyVer': '1.19', 'CDN-RequestPullSuccess': 'True', 'CDN-RequestPullCode': '408', 'CDN-CachedAt': '02/27/2025 17:42:09', 'CDN-EdgeStorageId': '982', 'CDN-Status': '408', 'CDN-RequestTime': '0', 'CDN-RequestId': '72d8af53287d556ec5108c4198a4e61a', 'CDN-Cache': 'MISS'})\n",
      "HTTP response body: <html><body><h1>408 Request Time-out</h1>\n",
      "Your browser didn't send a complete request in time.\n",
      "</body></html>\n",
      "\n",
      "\n"
     ]
    },
    {
     "ename": "KeyboardInterrupt",
     "evalue": "",
     "output_type": "error",
     "traceback": [
      "\u001B[1;31m---------------------------------------------------------------------------\u001B[0m",
      "\u001B[1;31mKeyboardInterrupt\u001B[0m                         Traceback (most recent call last)",
      "Cell \u001B[1;32mIn[4], line 38\u001B[0m\n\u001B[0;32m     35\u001B[0m hour \u001B[38;5;241m=\u001B[39m t\u001B[38;5;241m.\u001B[39mtm_hour\n\u001B[0;32m     37\u001B[0m \u001B[38;5;66;03m# Get historical weather data\u001B[39;00m\n\u001B[1;32m---> 38\u001B[0m api_response \u001B[38;5;241m=\u001B[39m api_instance\u001B[38;5;241m.\u001B[39mhistory_weather(\n\u001B[0;32m     39\u001B[0m     q, \n\u001B[0;32m     40\u001B[0m     dt\u001B[38;5;241m=\u001B[39m\u001B[38;5;124m\"\u001B[39m\u001B[38;5;124m\"\u001B[39m,\n\u001B[0;32m     41\u001B[0m     unixdt\u001B[38;5;241m=\u001B[39mdt,\n\u001B[0;32m     42\u001B[0m     hour\u001B[38;5;241m=\u001B[39mhour\n\u001B[0;32m     43\u001B[0m )\n\u001B[0;32m     46\u001B[0m forecastday \u001B[38;5;241m=\u001B[39m api_response[\u001B[38;5;124m'\u001B[39m\u001B[38;5;124mforecast\u001B[39m\u001B[38;5;124m'\u001B[39m][\u001B[38;5;124m'\u001B[39m\u001B[38;5;124mforecastday\u001B[39m\u001B[38;5;124m'\u001B[39m][\u001B[38;5;241m0\u001B[39m]\n\u001B[0;32m     47\u001B[0m \u001B[38;5;66;03m# Extract relevant data from response\u001B[39;00m\n",
      "File \u001B[1;32m~\\miniconda3\\Lib\\site-packages\\weatherapi\\api\\apis_api.py:398\u001B[0m, in \u001B[0;36mAPIsApi.history_weather\u001B[1;34m(self, q, dt, **kwargs)\u001B[0m\n\u001B[0;32m    396\u001B[0m     \u001B[38;5;28;01mreturn\u001B[39;00m \u001B[38;5;28mself\u001B[39m\u001B[38;5;241m.\u001B[39mhistory_weather_with_http_info(q, dt, \u001B[38;5;241m*\u001B[39m\u001B[38;5;241m*\u001B[39mkwargs)  \u001B[38;5;66;03m# noqa: E501\u001B[39;00m\n\u001B[0;32m    397\u001B[0m \u001B[38;5;28;01melse\u001B[39;00m:\n\u001B[1;32m--> 398\u001B[0m     (data) \u001B[38;5;241m=\u001B[39m \u001B[38;5;28mself\u001B[39m\u001B[38;5;241m.\u001B[39mhistory_weather_with_http_info(q, dt, \u001B[38;5;241m*\u001B[39m\u001B[38;5;241m*\u001B[39mkwargs)  \u001B[38;5;66;03m# noqa: E501\u001B[39;00m\n\u001B[0;32m    399\u001B[0m     \u001B[38;5;28;01mreturn\u001B[39;00m data\n",
      "File \u001B[1;32m~\\miniconda3\\Lib\\site-packages\\weatherapi\\api\\apis_api.py:480\u001B[0m, in \u001B[0;36mAPIsApi.history_weather_with_http_info\u001B[1;34m(self, q, dt, **kwargs)\u001B[0m\n\u001B[0;32m    477\u001B[0m \u001B[38;5;66;03m# Authentication setting\u001B[39;00m\n\u001B[0;32m    478\u001B[0m auth_settings \u001B[38;5;241m=\u001B[39m [\u001B[38;5;124m'\u001B[39m\u001B[38;5;124mApiKeyAuth\u001B[39m\u001B[38;5;124m'\u001B[39m]  \u001B[38;5;66;03m# noqa: E501\u001B[39;00m\n\u001B[1;32m--> 480\u001B[0m \u001B[38;5;28;01mreturn\u001B[39;00m \u001B[38;5;28mself\u001B[39m\u001B[38;5;241m.\u001B[39mapi_client\u001B[38;5;241m.\u001B[39mcall_api(\n\u001B[0;32m    481\u001B[0m     \u001B[38;5;124m'\u001B[39m\u001B[38;5;124m/history.json\u001B[39m\u001B[38;5;124m'\u001B[39m, \u001B[38;5;124m'\u001B[39m\u001B[38;5;124mGET\u001B[39m\u001B[38;5;124m'\u001B[39m,\n\u001B[0;32m    482\u001B[0m     path_params,\n\u001B[0;32m    483\u001B[0m     query_params,\n\u001B[0;32m    484\u001B[0m     header_params,\n\u001B[0;32m    485\u001B[0m     body\u001B[38;5;241m=\u001B[39mbody_params,\n\u001B[0;32m    486\u001B[0m     post_params\u001B[38;5;241m=\u001B[39mform_params,\n\u001B[0;32m    487\u001B[0m     files\u001B[38;5;241m=\u001B[39mlocal_var_files,\n\u001B[0;32m    488\u001B[0m     response_type\u001B[38;5;241m=\u001B[39m\u001B[38;5;124m'\u001B[39m\u001B[38;5;124mobject\u001B[39m\u001B[38;5;124m'\u001B[39m,  \u001B[38;5;66;03m# noqa: E501\u001B[39;00m\n\u001B[0;32m    489\u001B[0m     auth_settings\u001B[38;5;241m=\u001B[39mauth_settings,\n\u001B[0;32m    490\u001B[0m     async_req\u001B[38;5;241m=\u001B[39mparams\u001B[38;5;241m.\u001B[39mget(\u001B[38;5;124m'\u001B[39m\u001B[38;5;124masync_req\u001B[39m\u001B[38;5;124m'\u001B[39m),\n\u001B[0;32m    491\u001B[0m     _return_http_data_only\u001B[38;5;241m=\u001B[39mparams\u001B[38;5;241m.\u001B[39mget(\u001B[38;5;124m'\u001B[39m\u001B[38;5;124m_return_http_data_only\u001B[39m\u001B[38;5;124m'\u001B[39m),\n\u001B[0;32m    492\u001B[0m     _preload_content\u001B[38;5;241m=\u001B[39mparams\u001B[38;5;241m.\u001B[39mget(\u001B[38;5;124m'\u001B[39m\u001B[38;5;124m_preload_content\u001B[39m\u001B[38;5;124m'\u001B[39m, \u001B[38;5;28;01mTrue\u001B[39;00m),\n\u001B[0;32m    493\u001B[0m     _request_timeout\u001B[38;5;241m=\u001B[39mparams\u001B[38;5;241m.\u001B[39mget(\u001B[38;5;124m'\u001B[39m\u001B[38;5;124m_request_timeout\u001B[39m\u001B[38;5;124m'\u001B[39m),\n\u001B[0;32m    494\u001B[0m     collection_formats\u001B[38;5;241m=\u001B[39mcollection_formats)\n",
      "File \u001B[1;32m~\\miniconda3\\Lib\\site-packages\\weatherapi\\api_client.py:326\u001B[0m, in \u001B[0;36mApiClient.call_api\u001B[1;34m(self, resource_path, method, path_params, query_params, header_params, body, post_params, files, response_type, auth_settings, async_req, _return_http_data_only, collection_formats, _preload_content, _request_timeout)\u001B[0m\n\u001B[0;32m    289\u001B[0m \u001B[38;5;250m\u001B[39m\u001B[38;5;124;03m\"\"\"Makes the HTTP request (synchronous) and returns deserialized data.\u001B[39;00m\n\u001B[0;32m    290\u001B[0m \n\u001B[0;32m    291\u001B[0m \u001B[38;5;124;03mTo make an async request, set the async_req parameter.\u001B[39;00m\n\u001B[1;32m   (...)\u001B[0m\n\u001B[0;32m    323\u001B[0m \u001B[38;5;124;03m    then the method will return the response directly.\u001B[39;00m\n\u001B[0;32m    324\u001B[0m \u001B[38;5;124;03m\"\"\"\u001B[39;00m\n\u001B[0;32m    325\u001B[0m \u001B[38;5;28;01mif\u001B[39;00m \u001B[38;5;129;01mnot\u001B[39;00m async_req:\n\u001B[1;32m--> 326\u001B[0m     \u001B[38;5;28;01mreturn\u001B[39;00m \u001B[38;5;28mself\u001B[39m\u001B[38;5;241m.\u001B[39m__call_api(resource_path, method,\n\u001B[0;32m    327\u001B[0m                            path_params, query_params, header_params,\n\u001B[0;32m    328\u001B[0m                            body, post_params, files,\n\u001B[0;32m    329\u001B[0m                            response_type, auth_settings,\n\u001B[0;32m    330\u001B[0m                            _return_http_data_only, collection_formats,\n\u001B[0;32m    331\u001B[0m                            _preload_content, _request_timeout)\n\u001B[0;32m    332\u001B[0m \u001B[38;5;28;01melse\u001B[39;00m:\n\u001B[0;32m    333\u001B[0m     thread \u001B[38;5;241m=\u001B[39m \u001B[38;5;28mself\u001B[39m\u001B[38;5;241m.\u001B[39mpool\u001B[38;5;241m.\u001B[39mapply_async(\u001B[38;5;28mself\u001B[39m\u001B[38;5;241m.\u001B[39m__call_api, (resource_path,\n\u001B[0;32m    334\u001B[0m                                    method, path_params, query_params,\n\u001B[0;32m    335\u001B[0m                                    header_params, body,\n\u001B[1;32m   (...)\u001B[0m\n\u001B[0;32m    339\u001B[0m                                    collection_formats,\n\u001B[0;32m    340\u001B[0m                                    _preload_content, _request_timeout))\n",
      "File \u001B[1;32m~\\miniconda3\\Lib\\site-packages\\weatherapi\\api_client.py:158\u001B[0m, in \u001B[0;36mApiClient.__call_api\u001B[1;34m(self, resource_path, method, path_params, query_params, header_params, body, post_params, files, response_type, auth_settings, _return_http_data_only, collection_formats, _preload_content, _request_timeout)\u001B[0m\n\u001B[0;32m    155\u001B[0m url \u001B[38;5;241m=\u001B[39m \u001B[38;5;28mself\u001B[39m\u001B[38;5;241m.\u001B[39mconfiguration\u001B[38;5;241m.\u001B[39mhost \u001B[38;5;241m+\u001B[39m resource_path\n\u001B[0;32m    157\u001B[0m \u001B[38;5;66;03m# perform request and return response\u001B[39;00m\n\u001B[1;32m--> 158\u001B[0m response_data \u001B[38;5;241m=\u001B[39m \u001B[38;5;28mself\u001B[39m\u001B[38;5;241m.\u001B[39mrequest(\n\u001B[0;32m    159\u001B[0m     method, url, query_params\u001B[38;5;241m=\u001B[39mquery_params, headers\u001B[38;5;241m=\u001B[39mheader_params,\n\u001B[0;32m    160\u001B[0m     post_params\u001B[38;5;241m=\u001B[39mpost_params, body\u001B[38;5;241m=\u001B[39mbody,\n\u001B[0;32m    161\u001B[0m     _preload_content\u001B[38;5;241m=\u001B[39m_preload_content,\n\u001B[0;32m    162\u001B[0m     _request_timeout\u001B[38;5;241m=\u001B[39m_request_timeout)\n\u001B[0;32m    164\u001B[0m \u001B[38;5;28mself\u001B[39m\u001B[38;5;241m.\u001B[39mlast_response \u001B[38;5;241m=\u001B[39m response_data\n\u001B[0;32m    166\u001B[0m return_data \u001B[38;5;241m=\u001B[39m response_data\n",
      "File \u001B[1;32m~\\miniconda3\\Lib\\site-packages\\weatherapi\\api_client.py:348\u001B[0m, in \u001B[0;36mApiClient.request\u001B[1;34m(self, method, url, query_params, headers, post_params, body, _preload_content, _request_timeout)\u001B[0m\n\u001B[0;32m    346\u001B[0m \u001B[38;5;250m\u001B[39m\u001B[38;5;124;03m\"\"\"Makes the HTTP request using RESTClient.\"\"\"\u001B[39;00m\n\u001B[0;32m    347\u001B[0m \u001B[38;5;28;01mif\u001B[39;00m method \u001B[38;5;241m==\u001B[39m \u001B[38;5;124m\"\u001B[39m\u001B[38;5;124mGET\u001B[39m\u001B[38;5;124m\"\u001B[39m:\n\u001B[1;32m--> 348\u001B[0m     \u001B[38;5;28;01mreturn\u001B[39;00m \u001B[38;5;28mself\u001B[39m\u001B[38;5;241m.\u001B[39mrest_client\u001B[38;5;241m.\u001B[39mGET(url,\n\u001B[0;32m    349\u001B[0m                                 query_params\u001B[38;5;241m=\u001B[39mquery_params,\n\u001B[0;32m    350\u001B[0m                                 _preload_content\u001B[38;5;241m=\u001B[39m_preload_content,\n\u001B[0;32m    351\u001B[0m                                 _request_timeout\u001B[38;5;241m=\u001B[39m_request_timeout,\n\u001B[0;32m    352\u001B[0m                                 headers\u001B[38;5;241m=\u001B[39mheaders)\n\u001B[0;32m    353\u001B[0m \u001B[38;5;28;01melif\u001B[39;00m method \u001B[38;5;241m==\u001B[39m \u001B[38;5;124m\"\u001B[39m\u001B[38;5;124mHEAD\u001B[39m\u001B[38;5;124m\"\u001B[39m:\n\u001B[0;32m    354\u001B[0m     \u001B[38;5;28;01mreturn\u001B[39;00m \u001B[38;5;28mself\u001B[39m\u001B[38;5;241m.\u001B[39mrest_client\u001B[38;5;241m.\u001B[39mHEAD(url,\n\u001B[0;32m    355\u001B[0m                                  query_params\u001B[38;5;241m=\u001B[39mquery_params,\n\u001B[0;32m    356\u001B[0m                                  _preload_content\u001B[38;5;241m=\u001B[39m_preload_content,\n\u001B[0;32m    357\u001B[0m                                  _request_timeout\u001B[38;5;241m=\u001B[39m_request_timeout,\n\u001B[0;32m    358\u001B[0m                                  headers\u001B[38;5;241m=\u001B[39mheaders)\n",
      "File \u001B[1;32m~\\miniconda3\\Lib\\site-packages\\weatherapi\\rest.py:234\u001B[0m, in \u001B[0;36mRESTClientObject.GET\u001B[1;34m(self, url, headers, query_params, _preload_content, _request_timeout)\u001B[0m\n\u001B[0;32m    232\u001B[0m \u001B[38;5;28;01mdef\u001B[39;00m \u001B[38;5;21mGET\u001B[39m(\u001B[38;5;28mself\u001B[39m, url, headers\u001B[38;5;241m=\u001B[39m\u001B[38;5;28;01mNone\u001B[39;00m, query_params\u001B[38;5;241m=\u001B[39m\u001B[38;5;28;01mNone\u001B[39;00m, _preload_content\u001B[38;5;241m=\u001B[39m\u001B[38;5;28;01mTrue\u001B[39;00m,\n\u001B[0;32m    233\u001B[0m         _request_timeout\u001B[38;5;241m=\u001B[39m\u001B[38;5;28;01mNone\u001B[39;00m):\n\u001B[1;32m--> 234\u001B[0m     \u001B[38;5;28;01mreturn\u001B[39;00m \u001B[38;5;28mself\u001B[39m\u001B[38;5;241m.\u001B[39mrequest(\u001B[38;5;124m\"\u001B[39m\u001B[38;5;124mGET\u001B[39m\u001B[38;5;124m\"\u001B[39m, url,\n\u001B[0;32m    235\u001B[0m                         headers\u001B[38;5;241m=\u001B[39mheaders,\n\u001B[0;32m    236\u001B[0m                         _preload_content\u001B[38;5;241m=\u001B[39m_preload_content,\n\u001B[0;32m    237\u001B[0m                         _request_timeout\u001B[38;5;241m=\u001B[39m_request_timeout,\n\u001B[0;32m    238\u001B[0m                         query_params\u001B[38;5;241m=\u001B[39mquery_params)\n",
      "File \u001B[1;32m~\\miniconda3\\Lib\\site-packages\\weatherapi\\rest.py:207\u001B[0m, in \u001B[0;36mRESTClientObject.request\u001B[1;34m(self, method, url, query_params, headers, body, post_params, _preload_content, _request_timeout)\u001B[0m\n\u001B[0;32m    204\u001B[0m             \u001B[38;5;28;01mraise\u001B[39;00m ApiException(status\u001B[38;5;241m=\u001B[39m\u001B[38;5;241m0\u001B[39m, reason\u001B[38;5;241m=\u001B[39mmsg)\n\u001B[0;32m    205\u001B[0m     \u001B[38;5;66;03m# For `GET`, `HEAD`\u001B[39;00m\n\u001B[0;32m    206\u001B[0m     \u001B[38;5;28;01melse\u001B[39;00m:\n\u001B[1;32m--> 207\u001B[0m         r \u001B[38;5;241m=\u001B[39m \u001B[38;5;28mself\u001B[39m\u001B[38;5;241m.\u001B[39mpool_manager\u001B[38;5;241m.\u001B[39mrequest(method, url,\n\u001B[0;32m    208\u001B[0m                                       fields\u001B[38;5;241m=\u001B[39mquery_params,\n\u001B[0;32m    209\u001B[0m                                       preload_content\u001B[38;5;241m=\u001B[39m_preload_content,\n\u001B[0;32m    210\u001B[0m                                       timeout\u001B[38;5;241m=\u001B[39mtimeout,\n\u001B[0;32m    211\u001B[0m                                       headers\u001B[38;5;241m=\u001B[39mheaders)\n\u001B[0;32m    212\u001B[0m \u001B[38;5;28;01mexcept\u001B[39;00m urllib3\u001B[38;5;241m.\u001B[39mexceptions\u001B[38;5;241m.\u001B[39mSSLError \u001B[38;5;28;01mas\u001B[39;00m e:\n\u001B[0;32m    213\u001B[0m     msg \u001B[38;5;241m=\u001B[39m \u001B[38;5;124m\"\u001B[39m\u001B[38;5;132;01m{0}\u001B[39;00m\u001B[38;5;130;01m\\n\u001B[39;00m\u001B[38;5;132;01m{1}\u001B[39;00m\u001B[38;5;124m\"\u001B[39m\u001B[38;5;241m.\u001B[39mformat(\u001B[38;5;28mtype\u001B[39m(e)\u001B[38;5;241m.\u001B[39m\u001B[38;5;18m__name__\u001B[39m, \u001B[38;5;28mstr\u001B[39m(e))\n",
      "File \u001B[1;32m~\\miniconda3\\Lib\\site-packages\\urllib3\\_request_methods.py:135\u001B[0m, in \u001B[0;36mRequestMethods.request\u001B[1;34m(self, method, url, body, fields, headers, json, **urlopen_kw)\u001B[0m\n\u001B[0;32m    132\u001B[0m     urlopen_kw[\u001B[38;5;124m\"\u001B[39m\u001B[38;5;124mbody\u001B[39m\u001B[38;5;124m\"\u001B[39m] \u001B[38;5;241m=\u001B[39m body\n\u001B[0;32m    134\u001B[0m \u001B[38;5;28;01mif\u001B[39;00m method \u001B[38;5;129;01min\u001B[39;00m \u001B[38;5;28mself\u001B[39m\u001B[38;5;241m.\u001B[39m_encode_url_methods:\n\u001B[1;32m--> 135\u001B[0m     \u001B[38;5;28;01mreturn\u001B[39;00m \u001B[38;5;28mself\u001B[39m\u001B[38;5;241m.\u001B[39mrequest_encode_url(\n\u001B[0;32m    136\u001B[0m         method,\n\u001B[0;32m    137\u001B[0m         url,\n\u001B[0;32m    138\u001B[0m         fields\u001B[38;5;241m=\u001B[39mfields,  \u001B[38;5;66;03m# type: ignore[arg-type]\u001B[39;00m\n\u001B[0;32m    139\u001B[0m         headers\u001B[38;5;241m=\u001B[39mheaders,\n\u001B[0;32m    140\u001B[0m         \u001B[38;5;241m*\u001B[39m\u001B[38;5;241m*\u001B[39murlopen_kw,\n\u001B[0;32m    141\u001B[0m     )\n\u001B[0;32m    142\u001B[0m \u001B[38;5;28;01melse\u001B[39;00m:\n\u001B[0;32m    143\u001B[0m     \u001B[38;5;28;01mreturn\u001B[39;00m \u001B[38;5;28mself\u001B[39m\u001B[38;5;241m.\u001B[39mrequest_encode_body(\n\u001B[0;32m    144\u001B[0m         method, url, fields\u001B[38;5;241m=\u001B[39mfields, headers\u001B[38;5;241m=\u001B[39mheaders, \u001B[38;5;241m*\u001B[39m\u001B[38;5;241m*\u001B[39murlopen_kw\n\u001B[0;32m    145\u001B[0m     )\n",
      "File \u001B[1;32m~\\miniconda3\\Lib\\site-packages\\urllib3\\_request_methods.py:182\u001B[0m, in \u001B[0;36mRequestMethods.request_encode_url\u001B[1;34m(self, method, url, fields, headers, **urlopen_kw)\u001B[0m\n\u001B[0;32m    179\u001B[0m \u001B[38;5;28;01mif\u001B[39;00m fields:\n\u001B[0;32m    180\u001B[0m     url \u001B[38;5;241m+\u001B[39m\u001B[38;5;241m=\u001B[39m \u001B[38;5;124m\"\u001B[39m\u001B[38;5;124m?\u001B[39m\u001B[38;5;124m\"\u001B[39m \u001B[38;5;241m+\u001B[39m urlencode(fields)\n\u001B[1;32m--> 182\u001B[0m \u001B[38;5;28;01mreturn\u001B[39;00m \u001B[38;5;28mself\u001B[39m\u001B[38;5;241m.\u001B[39murlopen(method, url, \u001B[38;5;241m*\u001B[39m\u001B[38;5;241m*\u001B[39mextra_kw)\n",
      "File \u001B[1;32m~\\miniconda3\\Lib\\site-packages\\urllib3\\poolmanager.py:443\u001B[0m, in \u001B[0;36mPoolManager.urlopen\u001B[1;34m(self, method, url, redirect, **kw)\u001B[0m\n\u001B[0;32m    441\u001B[0m     response \u001B[38;5;241m=\u001B[39m conn\u001B[38;5;241m.\u001B[39murlopen(method, url, \u001B[38;5;241m*\u001B[39m\u001B[38;5;241m*\u001B[39mkw)\n\u001B[0;32m    442\u001B[0m \u001B[38;5;28;01melse\u001B[39;00m:\n\u001B[1;32m--> 443\u001B[0m     response \u001B[38;5;241m=\u001B[39m conn\u001B[38;5;241m.\u001B[39murlopen(method, u\u001B[38;5;241m.\u001B[39mrequest_uri, \u001B[38;5;241m*\u001B[39m\u001B[38;5;241m*\u001B[39mkw)\n\u001B[0;32m    445\u001B[0m redirect_location \u001B[38;5;241m=\u001B[39m redirect \u001B[38;5;129;01mand\u001B[39;00m response\u001B[38;5;241m.\u001B[39mget_redirect_location()\n\u001B[0;32m    446\u001B[0m \u001B[38;5;28;01mif\u001B[39;00m \u001B[38;5;129;01mnot\u001B[39;00m redirect_location:\n",
      "File \u001B[1;32m~\\miniconda3\\Lib\\site-packages\\urllib3\\connectionpool.py:789\u001B[0m, in \u001B[0;36mHTTPConnectionPool.urlopen\u001B[1;34m(self, method, url, body, headers, retries, redirect, assert_same_host, timeout, pool_timeout, release_conn, chunked, body_pos, preload_content, decode_content, **response_kw)\u001B[0m\n\u001B[0;32m    786\u001B[0m response_conn \u001B[38;5;241m=\u001B[39m conn \u001B[38;5;28;01mif\u001B[39;00m \u001B[38;5;129;01mnot\u001B[39;00m release_conn \u001B[38;5;28;01melse\u001B[39;00m \u001B[38;5;28;01mNone\u001B[39;00m\n\u001B[0;32m    788\u001B[0m \u001B[38;5;66;03m# Make the request on the HTTPConnection object\u001B[39;00m\n\u001B[1;32m--> 789\u001B[0m response \u001B[38;5;241m=\u001B[39m \u001B[38;5;28mself\u001B[39m\u001B[38;5;241m.\u001B[39m_make_request(\n\u001B[0;32m    790\u001B[0m     conn,\n\u001B[0;32m    791\u001B[0m     method,\n\u001B[0;32m    792\u001B[0m     url,\n\u001B[0;32m    793\u001B[0m     timeout\u001B[38;5;241m=\u001B[39mtimeout_obj,\n\u001B[0;32m    794\u001B[0m     body\u001B[38;5;241m=\u001B[39mbody,\n\u001B[0;32m    795\u001B[0m     headers\u001B[38;5;241m=\u001B[39mheaders,\n\u001B[0;32m    796\u001B[0m     chunked\u001B[38;5;241m=\u001B[39mchunked,\n\u001B[0;32m    797\u001B[0m     retries\u001B[38;5;241m=\u001B[39mretries,\n\u001B[0;32m    798\u001B[0m     response_conn\u001B[38;5;241m=\u001B[39mresponse_conn,\n\u001B[0;32m    799\u001B[0m     preload_content\u001B[38;5;241m=\u001B[39mpreload_content,\n\u001B[0;32m    800\u001B[0m     decode_content\u001B[38;5;241m=\u001B[39mdecode_content,\n\u001B[0;32m    801\u001B[0m     \u001B[38;5;241m*\u001B[39m\u001B[38;5;241m*\u001B[39mresponse_kw,\n\u001B[0;32m    802\u001B[0m )\n\u001B[0;32m    804\u001B[0m \u001B[38;5;66;03m# Everything went great!\u001B[39;00m\n\u001B[0;32m    805\u001B[0m clean_exit \u001B[38;5;241m=\u001B[39m \u001B[38;5;28;01mTrue\u001B[39;00m\n",
      "File \u001B[1;32m~\\miniconda3\\Lib\\site-packages\\urllib3\\connectionpool.py:536\u001B[0m, in \u001B[0;36mHTTPConnectionPool._make_request\u001B[1;34m(self, conn, method, url, body, headers, retries, timeout, chunked, response_conn, preload_content, decode_content, enforce_content_length)\u001B[0m\n\u001B[0;32m    534\u001B[0m \u001B[38;5;66;03m# Receive the response from the server\u001B[39;00m\n\u001B[0;32m    535\u001B[0m \u001B[38;5;28;01mtry\u001B[39;00m:\n\u001B[1;32m--> 536\u001B[0m     response \u001B[38;5;241m=\u001B[39m conn\u001B[38;5;241m.\u001B[39mgetresponse()\n\u001B[0;32m    537\u001B[0m \u001B[38;5;28;01mexcept\u001B[39;00m (BaseSSLError, \u001B[38;5;167;01mOSError\u001B[39;00m) \u001B[38;5;28;01mas\u001B[39;00m e:\n\u001B[0;32m    538\u001B[0m     \u001B[38;5;28mself\u001B[39m\u001B[38;5;241m.\u001B[39m_raise_timeout(err\u001B[38;5;241m=\u001B[39me, url\u001B[38;5;241m=\u001B[39murl, timeout_value\u001B[38;5;241m=\u001B[39mread_timeout)\n",
      "File \u001B[1;32m~\\miniconda3\\Lib\\site-packages\\urllib3\\connection.py:507\u001B[0m, in \u001B[0;36mHTTPConnection.getresponse\u001B[1;34m(self)\u001B[0m\n\u001B[0;32m    504\u001B[0m \u001B[38;5;28;01mfrom\u001B[39;00m \u001B[38;5;21;01m.\u001B[39;00m\u001B[38;5;21;01mresponse\u001B[39;00m \u001B[38;5;28;01mimport\u001B[39;00m HTTPResponse\n\u001B[0;32m    506\u001B[0m \u001B[38;5;66;03m# Get the response from http.client.HTTPConnection\u001B[39;00m\n\u001B[1;32m--> 507\u001B[0m httplib_response \u001B[38;5;241m=\u001B[39m \u001B[38;5;28msuper\u001B[39m()\u001B[38;5;241m.\u001B[39mgetresponse()\n\u001B[0;32m    509\u001B[0m \u001B[38;5;28;01mtry\u001B[39;00m:\n\u001B[0;32m    510\u001B[0m     assert_header_parsing(httplib_response\u001B[38;5;241m.\u001B[39mmsg)\n",
      "File \u001B[1;32m~\\miniconda3\\Lib\\http\\client.py:1428\u001B[0m, in \u001B[0;36mHTTPConnection.getresponse\u001B[1;34m(self)\u001B[0m\n\u001B[0;32m   1426\u001B[0m \u001B[38;5;28;01mtry\u001B[39;00m:\n\u001B[0;32m   1427\u001B[0m     \u001B[38;5;28;01mtry\u001B[39;00m:\n\u001B[1;32m-> 1428\u001B[0m         response\u001B[38;5;241m.\u001B[39mbegin()\n\u001B[0;32m   1429\u001B[0m     \u001B[38;5;28;01mexcept\u001B[39;00m \u001B[38;5;167;01mConnectionError\u001B[39;00m:\n\u001B[0;32m   1430\u001B[0m         \u001B[38;5;28mself\u001B[39m\u001B[38;5;241m.\u001B[39mclose()\n",
      "File \u001B[1;32m~\\miniconda3\\Lib\\http\\client.py:331\u001B[0m, in \u001B[0;36mHTTPResponse.begin\u001B[1;34m(self)\u001B[0m\n\u001B[0;32m    329\u001B[0m \u001B[38;5;66;03m# read until we get a non-100 response\u001B[39;00m\n\u001B[0;32m    330\u001B[0m \u001B[38;5;28;01mwhile\u001B[39;00m \u001B[38;5;28;01mTrue\u001B[39;00m:\n\u001B[1;32m--> 331\u001B[0m     version, status, reason \u001B[38;5;241m=\u001B[39m \u001B[38;5;28mself\u001B[39m\u001B[38;5;241m.\u001B[39m_read_status()\n\u001B[0;32m    332\u001B[0m     \u001B[38;5;28;01mif\u001B[39;00m status \u001B[38;5;241m!=\u001B[39m CONTINUE:\n\u001B[0;32m    333\u001B[0m         \u001B[38;5;28;01mbreak\u001B[39;00m\n",
      "File \u001B[1;32m~\\miniconda3\\Lib\\http\\client.py:292\u001B[0m, in \u001B[0;36mHTTPResponse._read_status\u001B[1;34m(self)\u001B[0m\n\u001B[0;32m    291\u001B[0m \u001B[38;5;28;01mdef\u001B[39;00m \u001B[38;5;21m_read_status\u001B[39m(\u001B[38;5;28mself\u001B[39m):\n\u001B[1;32m--> 292\u001B[0m     line \u001B[38;5;241m=\u001B[39m \u001B[38;5;28mstr\u001B[39m(\u001B[38;5;28mself\u001B[39m\u001B[38;5;241m.\u001B[39mfp\u001B[38;5;241m.\u001B[39mreadline(_MAXLINE \u001B[38;5;241m+\u001B[39m \u001B[38;5;241m1\u001B[39m), \u001B[38;5;124m\"\u001B[39m\u001B[38;5;124miso-8859-1\u001B[39m\u001B[38;5;124m\"\u001B[39m)\n\u001B[0;32m    293\u001B[0m     \u001B[38;5;28;01mif\u001B[39;00m \u001B[38;5;28mlen\u001B[39m(line) \u001B[38;5;241m>\u001B[39m _MAXLINE:\n\u001B[0;32m    294\u001B[0m         \u001B[38;5;28;01mraise\u001B[39;00m LineTooLong(\u001B[38;5;124m\"\u001B[39m\u001B[38;5;124mstatus line\u001B[39m\u001B[38;5;124m\"\u001B[39m)\n",
      "File \u001B[1;32m~\\miniconda3\\Lib\\socket.py:720\u001B[0m, in \u001B[0;36mSocketIO.readinto\u001B[1;34m(self, b)\u001B[0m\n\u001B[0;32m    718\u001B[0m \u001B[38;5;28;01mwhile\u001B[39;00m \u001B[38;5;28;01mTrue\u001B[39;00m:\n\u001B[0;32m    719\u001B[0m     \u001B[38;5;28;01mtry\u001B[39;00m:\n\u001B[1;32m--> 720\u001B[0m         \u001B[38;5;28;01mreturn\u001B[39;00m \u001B[38;5;28mself\u001B[39m\u001B[38;5;241m.\u001B[39m_sock\u001B[38;5;241m.\u001B[39mrecv_into(b)\n\u001B[0;32m    721\u001B[0m     \u001B[38;5;28;01mexcept\u001B[39;00m timeout:\n\u001B[0;32m    722\u001B[0m         \u001B[38;5;28mself\u001B[39m\u001B[38;5;241m.\u001B[39m_timeout_occurred \u001B[38;5;241m=\u001B[39m \u001B[38;5;28;01mTrue\u001B[39;00m\n",
      "File \u001B[1;32m~\\miniconda3\\Lib\\ssl.py:1251\u001B[0m, in \u001B[0;36mSSLSocket.recv_into\u001B[1;34m(self, buffer, nbytes, flags)\u001B[0m\n\u001B[0;32m   1247\u001B[0m     \u001B[38;5;28;01mif\u001B[39;00m flags \u001B[38;5;241m!=\u001B[39m \u001B[38;5;241m0\u001B[39m:\n\u001B[0;32m   1248\u001B[0m         \u001B[38;5;28;01mraise\u001B[39;00m \u001B[38;5;167;01mValueError\u001B[39;00m(\n\u001B[0;32m   1249\u001B[0m           \u001B[38;5;124m\"\u001B[39m\u001B[38;5;124mnon-zero flags not allowed in calls to recv_into() on \u001B[39m\u001B[38;5;132;01m%s\u001B[39;00m\u001B[38;5;124m\"\u001B[39m \u001B[38;5;241m%\u001B[39m\n\u001B[0;32m   1250\u001B[0m           \u001B[38;5;28mself\u001B[39m\u001B[38;5;241m.\u001B[39m\u001B[38;5;18m__class__\u001B[39m)\n\u001B[1;32m-> 1251\u001B[0m     \u001B[38;5;28;01mreturn\u001B[39;00m \u001B[38;5;28mself\u001B[39m\u001B[38;5;241m.\u001B[39mread(nbytes, buffer)\n\u001B[0;32m   1252\u001B[0m \u001B[38;5;28;01melse\u001B[39;00m:\n\u001B[0;32m   1253\u001B[0m     \u001B[38;5;28;01mreturn\u001B[39;00m \u001B[38;5;28msuper\u001B[39m()\u001B[38;5;241m.\u001B[39mrecv_into(buffer, nbytes, flags)\n",
      "File \u001B[1;32m~\\miniconda3\\Lib\\ssl.py:1103\u001B[0m, in \u001B[0;36mSSLSocket.read\u001B[1;34m(self, len, buffer)\u001B[0m\n\u001B[0;32m   1101\u001B[0m \u001B[38;5;28;01mtry\u001B[39;00m:\n\u001B[0;32m   1102\u001B[0m     \u001B[38;5;28;01mif\u001B[39;00m buffer \u001B[38;5;129;01mis\u001B[39;00m \u001B[38;5;129;01mnot\u001B[39;00m \u001B[38;5;28;01mNone\u001B[39;00m:\n\u001B[1;32m-> 1103\u001B[0m         \u001B[38;5;28;01mreturn\u001B[39;00m \u001B[38;5;28mself\u001B[39m\u001B[38;5;241m.\u001B[39m_sslobj\u001B[38;5;241m.\u001B[39mread(\u001B[38;5;28mlen\u001B[39m, buffer)\n\u001B[0;32m   1104\u001B[0m     \u001B[38;5;28;01melse\u001B[39;00m:\n\u001B[0;32m   1105\u001B[0m         \u001B[38;5;28;01mreturn\u001B[39;00m \u001B[38;5;28mself\u001B[39m\u001B[38;5;241m.\u001B[39m_sslobj\u001B[38;5;241m.\u001B[39mread(\u001B[38;5;28mlen\u001B[39m)\n",
      "\u001B[1;31mKeyboardInterrupt\u001B[0m: "
     ]
    }
   ],
   "execution_count": 4
  },
  {
   "metadata": {},
   "cell_type": "code",
   "outputs": [],
   "execution_count": null,
   "source": [
    "\n",
    "locations = []\n",
    "for idx, row in standard_path.iterrows():\n",
    "    q = f\"{row['latitude']},{row['longitude']}\"\n",
    "    custom_id = f\"loc-{idx}\"  # You can change this to use an existing column if desired\n",
    "    locations.append({\n",
    "        \"q\": q,\n",
    "        \"custom_id\": custom_id\n",
    "    })\n",
    "print(locations)\n",
    "location_chunks = chunk_locations(locations, chunk_size=50)\n",
    "bulk_response = []\n",
    "for i, chunk in enumerate(location_chunks, start=1):\n",
    "    print(f\"\\n--- Processing chunk {i}/{len(location_chunks)} ---\")\n",
    "    response = fetch_weather(locations=chunk)\n",
    "    if response:\n",
    "        bulk_response.extend(response)\n",
    "        \n",
    "        "
   ],
   "id": "40bea9d8080d11cc"
  },
  {
   "metadata": {},
   "cell_type": "code",
   "outputs": [],
   "execution_count": null,
   "source": [
    "q = 'q_example' # str | Pass US Zipcode, UK Postcode, Canada Postalcode, IP address, Latitude/Longitude (decimal degree) or city name. Visit [request parameter section](https://www.weatherapi.com/docs/#intro-request) to learn more.\n",
    "dt = '2013-10-20' # date | Date on or after 1st Jan, 2015 in yyyy-MM-dd format\n",
    "unixdt = 56 # int | Please either pass 'dt' or 'unixdt' and not both in same request.<br />unixdt should be on or after 1st Jan, 2015 in Unix format (optional)\n",
    "end_dt = '2013-10-20' # date | Date on or after 1st Jan, 2015 in yyyy-MM-dd format<br />'end_dt' should be greater than 'dt' parameter and difference should not be more than 30 days between the two dates. (optional)\n",
    "unixend_dt = 56 # int | Date on or after 1st Jan, 2015 in Unix Timestamp format<br />unixend_dt has same restriction as 'end_dt' parameter. Please either pass 'end_dt' or 'unixend_dt' and not both in same request. e.g. unixend_dt=1490227200 (optional)\n",
    "hour = 56 # int | Must be in 24 hour. For example 5 pm should be hour=17, 6 am as hour=6 (optional)\n",
    "lang = 'lang_example' # str | Returns 'condition:text' field in API in the desired language.<br /> Visit [request parameter section](https://www.weatherapi.com/docs/#intro-request) to check 'lang-code'. (optional)\n",
    "\n",
    "try:\n",
    "    # History API\n",
    "    api_response = api_instance.history_weather(q, dt, unixdt=unixdt, end_dt=end_dt, unixend_dt=unixend_dt, hour=hour, lang=lang)\n",
    "    pprint(api_response)\n",
    "except ApiException as e:\n",
    "    print(\"Exception when calling APIsApi->history_weather: %s\\n\" % e)"
   ],
   "id": "b93af035e37760d5"
  }
 ],
 "metadata": {
  "kernelspec": {
   "display_name": "Python 3",
   "language": "python",
   "name": "python3"
  },
  "language_info": {
   "codemirror_mode": {
    "name": "ipython",
    "version": 2
   },
   "file_extension": ".py",
   "mimetype": "text/x-python",
   "name": "python",
   "nbconvert_exporter": "python",
   "pygments_lexer": "ipython2",
   "version": "2.7.6"
  }
 },
 "nbformat": 4,
 "nbformat_minor": 5
}
